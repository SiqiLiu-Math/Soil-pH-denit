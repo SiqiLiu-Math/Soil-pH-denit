{
 "cells": [
  {
   "cell_type": "markdown",
   "id": "faa19e8f",
   "metadata": {},
   "source": [
    "# Nitrite Dynamics"
   ]
  },
  {
   "cell_type": "markdown",
   "id": "e05f1e5a",
   "metadata": {},
   "source": [
    "In this interactive document, I will introduce the consumer-resource models (CRM) for biomass growth and denitrification."
   ]
  },
  {
   "cell_type": "code",
   "execution_count": 1,
   "id": "8f4de933",
   "metadata": {},
   "outputs": [],
   "source": [
    "import numpy as np\n",
    "import matplotlib.pyplot as plt\n",
    "from ipywidgets import interactive\n",
    "import ipywidgets as widgets"
   ]
  },
  {
   "cell_type": "markdown",
   "id": "46edfb4b",
   "metadata": {},
   "source": [
    "## CRM for nitrate dynamics"
   ]
  },
  {
   "cell_type": "markdown",
   "id": "47b598e0",
   "metadata": {},
   "source": [
    "First, let us only consider the nitrate ($A$, unit $mM$) dynamics, and the biomass ($x$, unit $g$) growth due to nitrate consumption. The CRM is the following:\n",
    "$$ \\dot{A}=-r_Ax\\frac{A}{A+K_A} $$\n",
    "$$ \\dot{x} = x\\gamma_A\\frac{A}{A+K_A} $$\n",
    "\n",
    "The parameters in the equation are:\n",
    "- $r_A$: the per biomass consumption rate of $A$, unit $mM/(g\\cdot day)$.\n",
    "- $K_A$: the affinity constant to $A$, unit $mM$.\n",
    "- $\\gamma_A$: the growth rate of $x$, unit $day^{-1}$. (For CHL+ control, $\\gamma_A$=0.)\n",
    "\n",
    "We can combine the parameters to define a new variable $R_A=r_Ax$, representing the total consumption rate (unit $mM/day$)."
   ]
  },
  {
   "cell_type": "markdown",
   "id": "b03c66b3",
   "metadata": {},
   "source": [
    "Here, $H_A(A)=\\frac{A}{A+K_A}$ is the Monod function. In the following discussion, we assume the affinity $K_A<<A$. So the Monod function is degenerated to the step function:\n",
    "$$H_A(A=0)=0$$\n",
    "$$H_A(A>0)=1$$\n",
    "We will use the step function in the simulations. For the reason of normalization, we set $r_A=1$. We set $A(0)=2mM$ based on our experiment setup. Therefore, the dynamics will depend on $\\gamma_A$, and $x(0)$."
   ]
  },
  {
   "cell_type": "code",
   "execution_count": 2,
   "id": "bb10dd26",
   "metadata": {},
   "outputs": [
    {
     "data": {
      "application/vnd.jupyter.widget-view+json": {
       "model_id": "b908c8648b8d429ba20b44b2450bd33e",
       "version_major": 2,
       "version_minor": 0
      },
      "text/plain": [
       "interactive(children=(FloatSlider(value=0.2, description='\\\\(x(0)\\\\)', max=1.0, min=0.01, step=0.01), FloatSli…"
      ]
     },
     "execution_count": 2,
     "metadata": {},
     "output_type": "execute_result"
    }
   ],
   "source": [
    "t = np.linspace(0, 4, num=4000)\n",
    "dt = 0.001\n",
    "\n",
    "def f0(x0,ga):\n",
    "    a = np.ones(len(t))*2\n",
    "    x = np.ones(len(t))*x0\n",
    "    ac = np.ones(len(t))*2\n",
    "    xc = np.ones(len(t))*x0\n",
    "    for ii in range(len(t)-1):\n",
    "        a[ii+1] = np.maximum(a[ii]-x[ii]*dt,0)\n",
    "        x[ii+1] = x[ii]+x[ii]*ga*dt*(a[ii]>0)\n",
    "        ac[ii+1] = np.maximum(ac[ii]-xc[ii]*dt,0)\n",
    "    plt.subplot(2,2,1)\n",
    "    plt.plot(t, a, color='tab:blue')\n",
    "    plt.plot(t, ac, color='tab:blue', linestyle='dashed')\n",
    "    plt.ylim(-0.2, 2.2)\n",
    "    plt.ylabel('metabolite')\n",
    "    plt.subplot(2,2,3)\n",
    "    plt.plot(t, x, color='tab:blue')\n",
    "    plt.plot(t, xc, color='tab:blue', linestyle='dashed')\n",
    "    plt.yscale('log')\n",
    "    plt.ylim(0.01,100)\n",
    "    plt.ylabel('biomass')\n",
    "    plt.show()\n",
    "    \n",
    "nitrate_plot = interactive(\n",
    "    f0, \n",
    "    x0=widgets.FloatSlider(min=0.01,max=1,step=0.01,value = 0.2,description = r'\\(x(0)\\)'),\n",
    "    ga=widgets.FloatSlider(min=0,max=4,step=0.01,value = 1.0,description = r'\\(\\gamma_A\\)'), \n",
    ")\n",
    "nitrate_plot"
   ]
  },
  {
   "cell_type": "markdown",
   "id": "d7ecc567",
   "metadata": {},
   "source": [
    "## CRM for nitrate dynamics with carbon limitation"
   ]
  },
  {
   "cell_type": "markdown",
   "id": "6bc37dd9",
   "metadata": {},
   "source": [
    "Let us only consider the nitrate ($A$, unit $mM$) dynamics, and the biomass ($x$, unit $g$) growth due to nitrate consumption, but limited by the amount of carbon (C). The CRM is the following:\n",
    "$$ \\dot{A}=-r_AxH_A(A) $$\n",
    "$$ \\dot{C}=-r_CxH_C(C) $$\n",
    "$$ \\dot{x} = x\\gamma_AH_A(A)H_C(C) $$\n",
    "\n",
    "Similarly, the $H_C(C)$ is the Monod function of $C$, $r_C$ is the consumption rate of $C$.\n",
    "\n",
    "In the simulations, we set $r_C=1$ for the reason of normalization. Then the dynamics will depend on $\\gamma_A$, $x(0)$ and $C(0)$."
   ]
  },
  {
   "cell_type": "code",
   "execution_count": 3,
   "id": "c75b11fc",
   "metadata": {},
   "outputs": [
    {
     "data": {
      "application/vnd.jupyter.widget-view+json": {
       "model_id": "abc0d1987df94e4aa9c473db1bfe2f23",
       "version_major": 2,
       "version_minor": 0
      },
      "text/plain": [
       "interactive(children=(FloatSlider(value=1.0, description='\\\\(\\\\gamma_A\\\\)', max=4.0, step=0.01), FloatSlider(v…"
      ]
     },
     "execution_count": 3,
     "metadata": {},
     "output_type": "execute_result"
    }
   ],
   "source": [
    "def f0(ga,x0,c0):\n",
    "    a = np.ones(len(t))*2\n",
    "    c = np.ones(len(t))*c0\n",
    "    x = np.ones(len(t))*x0\n",
    "    ac = np.ones(len(t))*2\n",
    "    cc = np.ones(len(t))*c0\n",
    "    xc = np.ones(len(t))*x0\n",
    "    for ii in range(len(t)-1):\n",
    "        a[ii+1] = np.maximum(a[ii]-x[ii]*dt,0)\n",
    "        c[ii+1] = np.maximum(c[ii]-x[ii]*dt,0)\n",
    "        x[ii+1] = x[ii]+x[ii]*ga*dt*(a[ii]>0)*(c[ii]>0)\n",
    "        ac[ii+1] = np.maximum(ac[ii]-xc[ii]*dt,0)\n",
    "        cc[ii+1] = np.maximum(cc[ii]-xc[ii]*dt,0)\n",
    "    plt.subplot(2,2,1)\n",
    "    plt.plot(t, a, color='tab:blue')\n",
    "    plt.plot(t, ac, color='tab:blue', linestyle='dashed')\n",
    "    plt.ylim(-0.2, 2.2)\n",
    "    plt.ylabel('metabolite')\n",
    "    plt.subplot(2,2,2)\n",
    "    plt.plot(t, c, color='tab:purple')\n",
    "    plt.plot(t, cc, color='tab:purple', linestyle='dashed')\n",
    "    plt.ylim(-0.2, 2.2)\n",
    "    plt.title('carbon')\n",
    "    plt.subplot(2,2,3)\n",
    "    plt.plot(t, x, color='tab:blue')\n",
    "    plt.plot(t, xc, color='tab:blue', linestyle='dashed')\n",
    "    plt.yscale('log')\n",
    "    plt.ylim(0.01,100)\n",
    "    plt.ylabel('biomass')\n",
    "    plt.show()\n",
    "    \n",
    "nitrate_plot2 = interactive(\n",
    "    f0, \n",
    "    x0=widgets.FloatSlider(min=0.01,max=1,step=0.01,value = 0.2,description = r'\\(x(0)\\)'),\n",
    "    c0=widgets.FloatSlider(min=0,max=2.2,step=0.01,value = 0.5,description = r'\\(C(0)\\)'), \n",
    "    ga=widgets.FloatSlider(min=0,max=4,step=0.01,value = 1.0,description = r'\\(\\gamma_A\\)'), \n",
    ")\n",
    "nitrate_plot2"
   ]
  },
  {
   "cell_type": "markdown",
   "id": "45983cd7",
   "metadata": {},
   "source": [
    "## CRM for nitrate/nitrite dynamics"
   ]
  },
  {
   "cell_type": "markdown",
   "id": "efb86619",
   "metadata": {},
   "source": [
    "Let us now model on the nitrate and nitrite ($I$) dynamics, without carbon limitation. First, let us consider the two biomass: the nitrate specialist ($x_A$) whose growth is due to $A$ consumption, and nitrite spectialist ($x_I$) whose growth is due to $I$ consumption. The equation is:\n",
    "$$ \\dot{A}=-r_Ax_AH_A(A) $$\n",
    "$$ \\dot{I}=r_Ax_AH_A(A)-r_Ix_IH_I(I) $$\n",
    "$$ \\dot{x}_A = x_A\\gamma_AH_A(A) $$\n",
    "$$ \\dot{x}_I = x_I\\gamma_IH_I(A) $$\n",
    "\n",
    "Similarly, $r_I$ is per consumption rate of $I$, $\\gamma_I$ is the growth rate of $x_I$, and $H_I$ is the Monod funtion for $I$."
   ]
  },
  {
   "cell_type": "markdown",
   "id": "be379cf3",
   "metadata": {},
   "source": [
    "In the simulation, we set $r_A=1$ and $r_I=1$ for normalization reason. The initial condition of nitrite is $I(0)=0$. Therefore, the dynamics will depend on $x_A(0)$, $x_I(0)$, $\\gamma_A$ and $\\gamma_I$."
   ]
  },
  {
   "cell_type": "code",
   "execution_count": 4,
   "id": "3a666562",
   "metadata": {},
   "outputs": [
    {
     "data": {
      "application/vnd.jupyter.widget-view+json": {
       "model_id": "004bb8569284407b91068ecfb24e0468",
       "version_major": 2,
       "version_minor": 0
      },
      "text/plain": [
       "interactive(children=(FloatSlider(value=0.3, description='\\\\(x_A(0)\\\\)', max=1.0, min=0.01, step=0.01), FloatS…"
      ]
     },
     "execution_count": 4,
     "metadata": {},
     "output_type": "execute_result"
    }
   ],
   "source": [
    "def f0(xa0,xi0,ga,gi):\n",
    "    a = np.ones(len(t))*2\n",
    "    i = np.ones(len(t))*0\n",
    "    xa = np.ones(len(t))*xa0\n",
    "    xi = np.ones(len(t))*xi0\n",
    "    ac = np.ones(len(t))*2\n",
    "    ic = np.ones(len(t))*0\n",
    "    xac = np.ones(len(t))*xa0\n",
    "    xic = np.ones(len(t))*xi0\n",
    "    for ii in range(len(t)-1):\n",
    "        a[ii+1] = np.maximum(a[ii]-xa[ii]*dt,0)\n",
    "        xa[ii+1] = xa[ii]+xa[ii]*ga*dt*(a[ii]>0)\n",
    "        i[ii+1] = np.maximum(i[ii]+a[ii]-a[ii+1]-xi[ii]*dt,0)\n",
    "        xi[ii+1] = xi[ii]+xi[ii]*gi*dt*(i[ii]>0)\n",
    "        ac[ii+1] = np.maximum(ac[ii]-xac[ii]*dt,0)\n",
    "        ic[ii+1] = np.maximum(ic[ii]+ac[ii]-ac[ii+1]-xic[ii]*dt,0)\n",
    "    plt.subplot(2,2,1)\n",
    "    plt.plot(t, a, color='tab:blue')\n",
    "    plt.plot(t, ac, color='tab:blue', linestyle='dashed')\n",
    "    plt.plot(t, i, color='tab:orange')\n",
    "    plt.plot(t, ic, color='tab:orange', linestyle='dashed')\n",
    "    plt.ylim(-0.2, 2.2)\n",
    "    plt.ylabel('metabolite')\n",
    "    plt.subplot(2,2,3)\n",
    "    plt.plot(t, xa, color='tab:blue')\n",
    "    plt.plot(t, xac, color='tab:blue', linestyle='dashed')\n",
    "    plt.plot(t, xi, color='tab:orange')\n",
    "    plt.plot(t, xic, color='tab:orange', linestyle='dashed')\n",
    "    plt.yscale('log')\n",
    "    plt.ylim(0.01,100)\n",
    "    plt.ylabel('biomass')\n",
    "    plt.show()\n",
    "    \n",
    "nitrite_plot = interactive(\n",
    "    f0, \n",
    "    xa0=widgets.FloatSlider(min=0.01,max=1,step=0.01,value = 0.3,description = r'\\(x_A(0)\\)'),\n",
    "    xi0=widgets.FloatSlider(min=0.01,max=1,step=0.01,value = 0.15,description = r'\\(x_I(0)\\)'),\n",
    "    ga=widgets.FloatSlider(min=0,max=4,step=0.01,value = 1.0,description = r'\\(\\gamma_A\\)'), \n",
    "    gi=widgets.FloatSlider(min=0,max=4,step=0.01,value = 1.5,description = r'\\(\\gamma_I\\)'), \n",
    ")\n",
    "nitrite_plot"
   ]
  },
  {
   "cell_type": "markdown",
   "id": "bce51db2",
   "metadata": {},
   "source": [
    "## CRM for nitrate/nitrite dynamics with carbon limitation"
   ]
  },
  {
   "cell_type": "markdown",
   "id": "04f7c8eb",
   "metadata": {},
   "source": [
    "Let us now model on the nitrate and nitrite dynamics with the carbon limitation. We still consider the two biomass model, and both biomass are limited by the amount of carbon. The equation is:\n",
    "$$ \\dot{A}=-r_Ax_AH_A(A) $$\n",
    "$$ \\dot{I}=r_Ax_AH_A(A)-r_Ix_IH_I(I) $$\n",
    "$$ \\dot{C}=-r_C(x_A+x_I)H_C(C) $$\n",
    "$$ \\dot{x}_A = x_A\\gamma_AH_A(A)H_C(C) $$\n",
    "$$ \\dot{x}_I = x_I\\gamma_IH_I(A)H_C(C) $$\n",
    "\n",
    "Therefore, the dynamics will depend on $x_A(0)$, $x_I(0)$, $C(0)$, $\\gamma_A$ and $\\gamma_I$."
   ]
  },
  {
   "cell_type": "code",
   "execution_count": 5,
   "id": "64f2302b",
   "metadata": {},
   "outputs": [
    {
     "data": {
      "application/vnd.jupyter.widget-view+json": {
       "model_id": "5fa9127293e64cfeaa08d05c4e520d2d",
       "version_major": 2,
       "version_minor": 0
      },
      "text/plain": [
       "interactive(children=(FloatSlider(value=0.3, description='\\\\(x_A(0)\\\\)', max=1.0, min=0.01, step=0.01), FloatS…"
      ]
     },
     "execution_count": 5,
     "metadata": {},
     "output_type": "execute_result"
    }
   ],
   "source": [
    "def f0(xa0,xi0,c0,ga,gi):\n",
    "    a = np.ones(len(t))*2\n",
    "    i = np.ones(len(t))*0\n",
    "    c = np.ones(len(t))*c0\n",
    "    xa = np.ones(len(t))*xa0\n",
    "    xi = np.ones(len(t))*xi0\n",
    "    ac = np.ones(len(t))*2\n",
    "    ic = np.ones(len(t))*0\n",
    "    cc = np.ones(len(t))*c0\n",
    "    xac = np.ones(len(t))*xa0\n",
    "    xic = np.ones(len(t))*xi0\n",
    "    for ii in range(len(t)-1):\n",
    "        a[ii+1] = np.maximum(a[ii]-xa[ii]*dt,0)\n",
    "        i[ii+1] = np.maximum(i[ii]+a[ii]-a[ii+1]-xi[ii]*dt,0)\n",
    "        c[ii+1] = np.maximum(c[ii]-(xa[ii]+xi[ii])*dt,0)\n",
    "        xa[ii+1] = xa[ii]+xa[ii]*ga*dt*(a[ii]>0)*(c[ii]>0)\n",
    "        xi[ii+1] = xi[ii]+xi[ii]*gi*dt*(i[ii]>0)*(c[ii]>0)\n",
    "        ac[ii+1] = np.maximum(ac[ii]-xac[ii]*dt,0)\n",
    "        ic[ii+1] = np.maximum(ic[ii]+ac[ii]-ac[ii+1]-xic[ii]*dt,0)\n",
    "        cc[ii+1] = np.maximum(cc[ii]-(xac[ii]+xic[ii])*dt,0)\n",
    "    plt.subplot(2,2,1)\n",
    "    plt.plot(t, a, color='tab:blue')\n",
    "    plt.plot(t, ac, color='tab:blue', linestyle='dashed')\n",
    "    plt.plot(t, i, color='tab:orange')\n",
    "    plt.plot(t, ic, color='tab:orange', linestyle='dashed')\n",
    "    plt.ylim(-0.2, 2.2)\n",
    "    plt.ylabel('metabolite')\n",
    "    plt.subplot(2,2,2)\n",
    "    plt.plot(t, c, color='tab:purple')\n",
    "    plt.plot(t, cc, color='tab:purple', linestyle='dashed')\n",
    "    plt.ylim(-0.2, 2.2)\n",
    "    plt.title('carbon')\n",
    "    plt.subplot(2,2,3)\n",
    "    plt.plot(t, xa, color='tab:blue')\n",
    "    plt.plot(t, xac, color='tab:blue', linestyle='dashed')\n",
    "    plt.plot(t, xi, color='tab:orange')\n",
    "    plt.plot(t, xic, color='tab:orange', linestyle='dashed')\n",
    "    plt.yscale('log')\n",
    "    plt.ylim(0.01,100)\n",
    "    plt.ylabel('biomass')\n",
    "    plt.show()\n",
    "    \n",
    "nitrite_plot2 = interactive(\n",
    "    f0, \n",
    "    xa0=widgets.FloatSlider(min=0.01,max=1,step=0.01,value = 0.3,description = r'\\(x_A(0)\\)'),\n",
    "    xi0=widgets.FloatSlider(min=0.01,max=1,step=0.01,value = 0.15,description = r'\\(x_I(0)\\)'),\n",
    "    c0=widgets.FloatSlider(min=0,max=2.2,step=0.01,value = 1.0,description = r'\\(C(0)\\)'), \n",
    "    ga=widgets.FloatSlider(min=0,max=4,step=0.01,value = 1.0,description = r'\\(\\gamma_A\\)'), \n",
    "    gi=widgets.FloatSlider(min=0,max=4,step=0.01,value = 2.0,description = r'\\(\\gamma_I\\)'), \n",
    ")\n",
    "nitrite_plot2"
   ]
  },
  {
   "cell_type": "code",
   "execution_count": null,
   "id": "f19e562d",
   "metadata": {},
   "outputs": [],
   "source": []
  }
 ],
 "metadata": {
  "kernelspec": {
   "display_name": "Python 3 (ipykernel)",
   "language": "python",
   "name": "python3"
  },
  "language_info": {
   "codemirror_mode": {
    "name": "ipython",
    "version": 3
   },
   "file_extension": ".py",
   "mimetype": "text/x-python",
   "name": "python",
   "nbconvert_exporter": "python",
   "pygments_lexer": "ipython3",
   "version": "3.11.5"
  }
 },
 "nbformat": 4,
 "nbformat_minor": 5
}
